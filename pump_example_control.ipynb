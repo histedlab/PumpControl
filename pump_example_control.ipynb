{
 "cells": [
  {
   "cell_type": "markdown",
   "metadata": {},
   "source": [
    "# pump_example_control: Control pump manually via this library\n",
    "\n",
    "- created MH 170829"
   ]
  },
  {
   "cell_type": "code",
   "execution_count": 13,
   "metadata": {
    "collapsed": false
   },
   "outputs": [
    {
     "name": "stdout",
     "output_type": "stream",
     "text": [
      "The autoreload extension is already loaded. To reload it, use:\n",
      "  %reload_ext autoreload\n"
     ]
    }
   ],
   "source": [
    "# imports and constants: run this first\n",
    "import numpy as np\n",
    "import matplotlib.pyplot as plt\n",
    "import ne500_behavpump as ne500\n",
    "import time\n",
    "\n",
    "%matplotlib inline\n",
    "%load_ext autoreload\n",
    "%autoreload 2\n",
    "\n",
    "a_ = np.array\n",
    "r_ = np.r_"
   ]
  },
  {
   "cell_type": "code",
   "execution_count": 72,
   "metadata": {
    "collapsed": true
   },
   "outputs": [],
   "source": [
    "# open a console if you need it\n",
    "%qtconsole"
   ]
  },
  {
   "cell_type": "markdown",
   "metadata": {},
   "source": [
    "## Some examples of how to infuse/withdraw"
   ]
  },
  {
   "cell_type": "code",
   "execution_count": 8,
   "metadata": {
    "collapsed": true
   },
   "outputs": [],
   "source": [
    "# constants\n",
    "device = '/usr/local/dev/cu-ne500-0'"
   ]
  },
  {
   "cell_type": "code",
   "execution_count": 10,
   "metadata": {
    "collapsed": false
   },
   "outputs": [
    {
     "name": "stdout",
     "output_type": "stream",
     "text": [
      "(5.011, 0.0, 'UL')\n"
     ]
    }
   ],
   "source": [
    "# example: infuse\n",
    "ul = 5\n",
    "\n",
    "with ne500.NE500(device, diameter=7.27, rate=2.0) as pump:\n",
    "    pump.infuse(ul, block=True)\n",
    "    print(pump.get_dispensed())\n",
    "    "
   ]
  },
  {
   "cell_type": "code",
   "execution_count": 12,
   "metadata": {
    "collapsed": false
   },
   "outputs": [
    {
     "name": "stdout",
     "output_type": "stream",
     "text": [
      "(0.0, 5.011, 'UL')\n"
     ]
    }
   ],
   "source": [
    "# example: withdraw, don't wait to finish, print volume after done\n",
    "ul = 5\n",
    "with ne500.NE500(device, diameter=7.27, rate=2.0) as pump:\n",
    "    pump.withdraw(5, block=False)\n",
    "    pump.wait_for_stop()\n",
    "    print(pump.get_dispensed())\n",
    "\n",
    "\n",
    "    "
   ]
  },
  {
   "cell_type": "code",
   "execution_count": 17,
   "metadata": {
    "collapsed": false
   },
   "outputs": [
    {
     "name": "stdout",
     "output_type": "stream",
     "text": [
      "Elapsed: 1776.3 ms\n"
     ]
    }
   ],
   "source": [
    "# example: time infusion\n",
    "ul = 50\n",
    "with ne500.NE500(device, diameter=7.27, rate=2.0) as pump:\n",
    "    stT = time.time()\n",
    "    pump.infuse(ul, block=False)\n",
    "    pump.wait_for_stop()\n",
    "    endT = time.time()\n",
    "  \n",
    "    print('Elapsed: %.1f ms'%((endT-stT)*1000.0))\n",
    "\n",
    "\n",
    "    "
   ]
  },
  {
   "cell_type": "code",
   "execution_count": null,
   "metadata": {
    "collapsed": true
   },
   "outputs": [],
   "source": []
  },
  {
   "cell_type": "code",
   "execution_count": null,
   "metadata": {
    "collapsed": true
   },
   "outputs": [],
   "source": []
  },
  {
   "cell_type": "code",
   "execution_count": null,
   "metadata": {
    "collapsed": true
   },
   "outputs": [],
   "source": []
  }
 ],
 "metadata": {
  "anaconda-cloud": {},
  "kernelspec": {
   "display_name": "Python 2",
   "language": "python",
   "name": "python2"
  }
 },
 "nbformat": 4,
 "nbformat_minor": 1
}
